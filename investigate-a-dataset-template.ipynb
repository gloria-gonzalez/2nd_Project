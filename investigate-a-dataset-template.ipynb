{
 "cells": [
  {
   "cell_type": "markdown",
   "metadata": {},
   "source": [
    "# Introduction\n",
    "\n",
    "This report is based on a TMDB Movies dataset as the selected choice to analyse about 10,000 movies collected from The Movie Database (TMDb), including user ratings and revenue. With the aim to answer questions such as:\n",
    "\n",
    "- Which genres are most popular from year to year? \n",
    "- What kinds of properties are associated with movies that have high revenues?\n",
    "\n",
    "Try to build your report around the analysis of at least one dependent variable and \n",
    "three independent variables.\n",
    "make sure you familiarize yourself with the variables and the dataset context for ideas \n",
    "of what to explore."
   ]
  },
  {
   "cell_type": "code",
   "execution_count": 2,
   "metadata": {},
   "outputs": [
    {
     "name": "stdout",
     "output_type": "stream",
     "text": [
      "Using matplotlib backend: MacOSX\n"
     ]
    }
   ],
   "source": [
    "# Imports statements for all of the packages to be use. Including magic word for plot:\n",
    "\n",
    "import pandas as pd\n",
    "import numpy as np\n",
    "%matplotlib\n"
   ]
  },
  {
   "cell_type": "code",
   "execution_count": 3,
   "metadata": {},
   "outputs": [
    {
     "name": "stdout",
     "output_type": "stream",
     "text": [
      "<class 'pandas.core.frame.DataFrame'>\n",
      "RangeIndex: 10866 entries, 0 to 10865\n",
      "Data columns (total 21 columns):\n",
      "id                      10866 non-null int64\n",
      "imdb_id                 10856 non-null object\n",
      "popularity              10866 non-null float64\n",
      "budget                  10866 non-null int64\n",
      "revenue                 10866 non-null int64\n",
      "original_title          10866 non-null object\n",
      "cast                    10790 non-null object\n",
      "homepage                2936 non-null object\n",
      "director                10822 non-null object\n",
      "tagline                 8042 non-null object\n",
      "keywords                9373 non-null object\n",
      "overview                10862 non-null object\n",
      "runtime                 10866 non-null int64\n",
      "genres                  10843 non-null object\n",
      "production_companies    9836 non-null object\n",
      "release_date            10866 non-null object\n",
      "vote_count              10866 non-null int64\n",
      "vote_average            10866 non-null float64\n",
      "release_year            10866 non-null int64\n",
      "budget_adj              10866 non-null float64\n",
      "revenue_adj             10866 non-null float64\n",
      "dtypes: float64(4), int64(6), object(11)\n",
      "memory usage: 1.7+ MB\n"
     ]
    },
    {
     "data": {
      "text/plain": [
       "(10866, 21)"
      ]
     },
     "execution_count": 3,
     "metadata": {},
     "output_type": "execute_result"
    }
   ],
   "source": [
    "# Loads CSV file:\n",
    "\n",
    "filename: str = 'tmdb-movies.csv'\n",
    "df = pd.read_csv(filename)\n",
    "\n",
    "df.info()  # Allows to see which columns have missing values()\n",
    "df.shape"
   ]
  },
  {
   "cell_type": "code",
   "execution_count": 4,
   "metadata": {},
   "outputs": [
    {
     "data": {
      "text/plain": [
       "(10866, 13)"
      ]
     },
     "execution_count": 4,
     "metadata": {},
     "output_type": "execute_result"
    }
   ],
   "source": [
    "# Trims and cleans data set for analysis:\n",
    "\n",
    "to_drop = ['imdb_id','cast','homepage', 'director', 'tagline', 'keywords','overview','production_companies']\n",
    "df.drop(to_drop, inplace= True, axis=1) # Drops columns that are not useful for analysis and updates dataframe\n",
    "df.reset_index(level=0, drop=True)  # Resets dataframe index\n",
    "df.shape  #shows dataframe dimension after previous changes"
   ]
  },
  {
   "cell_type": "code",
   "execution_count": 5,
   "metadata": {
    "scrolled": false
   },
   "outputs": [
    {
     "data": {
      "text/html": [
       "<div>\n",
       "<style scoped>\n",
       "    .dataframe tbody tr th:only-of-type {\n",
       "        vertical-align: middle;\n",
       "    }\n",
       "\n",
       "    .dataframe tbody tr th {\n",
       "        vertical-align: top;\n",
       "    }\n",
       "\n",
       "    .dataframe thead th {\n",
       "        text-align: right;\n",
       "    }\n",
       "</style>\n",
       "<table border=\"1\" class=\"dataframe\">\n",
       "  <thead>\n",
       "    <tr style=\"text-align: right;\">\n",
       "      <th></th>\n",
       "      <th>id</th>\n",
       "      <th>popularity</th>\n",
       "      <th>budget</th>\n",
       "      <th>revenue</th>\n",
       "      <th>original_title</th>\n",
       "      <th>runtime</th>\n",
       "      <th>genres</th>\n",
       "      <th>release_date</th>\n",
       "      <th>vote_count</th>\n",
       "      <th>vote_average</th>\n",
       "      <th>release_year</th>\n",
       "      <th>budget_adj</th>\n",
       "      <th>revenue_adj</th>\n",
       "    </tr>\n",
       "  </thead>\n",
       "  <tbody>\n",
       "    <tr>\n",
       "      <th>0</th>\n",
       "      <td>135397</td>\n",
       "      <td>32</td>\n",
       "      <td>150000000</td>\n",
       "      <td>1513528810</td>\n",
       "      <td>Jurassic World</td>\n",
       "      <td>124</td>\n",
       "      <td>Action|Adventure|Science Fiction|Thriller</td>\n",
       "      <td>2015-06-09</td>\n",
       "      <td>5562</td>\n",
       "      <td>6.5</td>\n",
       "      <td>2015</td>\n",
       "      <td>150000000</td>\n",
       "      <td>1513528810</td>\n",
       "    </tr>\n",
       "    <tr>\n",
       "      <th>1</th>\n",
       "      <td>76341</td>\n",
       "      <td>28</td>\n",
       "      <td>150000000</td>\n",
       "      <td>378436354</td>\n",
       "      <td>Mad Max: Fury Road</td>\n",
       "      <td>120</td>\n",
       "      <td>Action|Adventure|Science Fiction|Thriller</td>\n",
       "      <td>2015-05-13</td>\n",
       "      <td>6185</td>\n",
       "      <td>7.1</td>\n",
       "      <td>2015</td>\n",
       "      <td>150000000</td>\n",
       "      <td>378436354</td>\n",
       "    </tr>\n",
       "    <tr>\n",
       "      <th>2</th>\n",
       "      <td>262500</td>\n",
       "      <td>13</td>\n",
       "      <td>110000000</td>\n",
       "      <td>295238201</td>\n",
       "      <td>Insurgent</td>\n",
       "      <td>119</td>\n",
       "      <td>Adventure|Science Fiction|Thriller</td>\n",
       "      <td>2015-03-18</td>\n",
       "      <td>2480</td>\n",
       "      <td>6.3</td>\n",
       "      <td>2015</td>\n",
       "      <td>110000000</td>\n",
       "      <td>295238201</td>\n",
       "    </tr>\n",
       "    <tr>\n",
       "      <th>3</th>\n",
       "      <td>140607</td>\n",
       "      <td>11</td>\n",
       "      <td>200000000</td>\n",
       "      <td>2068178225</td>\n",
       "      <td>Star Wars: The Force Awakens</td>\n",
       "      <td>136</td>\n",
       "      <td>Action|Adventure|Science Fiction|Fantasy</td>\n",
       "      <td>2015-12-15</td>\n",
       "      <td>5292</td>\n",
       "      <td>7.5</td>\n",
       "      <td>2015</td>\n",
       "      <td>200000000</td>\n",
       "      <td>2068178225</td>\n",
       "    </tr>\n",
       "    <tr>\n",
       "      <th>4</th>\n",
       "      <td>168259</td>\n",
       "      <td>9</td>\n",
       "      <td>190000000</td>\n",
       "      <td>1506249360</td>\n",
       "      <td>Furious 7</td>\n",
       "      <td>137</td>\n",
       "      <td>Action|Crime|Thriller</td>\n",
       "      <td>2015-04-01</td>\n",
       "      <td>2947</td>\n",
       "      <td>7.3</td>\n",
       "      <td>2015</td>\n",
       "      <td>190000000</td>\n",
       "      <td>1506249360</td>\n",
       "    </tr>\n",
       "  </tbody>\n",
       "</table>\n",
       "</div>"
      ],
      "text/plain": [
       "       id  popularity     budget     revenue                original_title  \\\n",
       "0  135397          32  150000000  1513528810                Jurassic World   \n",
       "1   76341          28  150000000   378436354            Mad Max: Fury Road   \n",
       "2  262500          13  110000000   295238201                     Insurgent   \n",
       "3  140607          11  200000000  2068178225  Star Wars: The Force Awakens   \n",
       "4  168259           9  190000000  1506249360                     Furious 7   \n",
       "\n",
       "   runtime                                     genres release_date  \\\n",
       "0      124  Action|Adventure|Science Fiction|Thriller   2015-06-09   \n",
       "1      120  Action|Adventure|Science Fiction|Thriller   2015-05-13   \n",
       "2      119         Adventure|Science Fiction|Thriller   2015-03-18   \n",
       "3      136   Action|Adventure|Science Fiction|Fantasy   2015-12-15   \n",
       "4      137                      Action|Crime|Thriller   2015-04-01   \n",
       "\n",
       "   vote_count  vote_average  release_year  budget_adj  revenue_adj  \n",
       "0        5562           6.5          2015   150000000   1513528810  \n",
       "1        6185           7.1          2015   150000000    378436354  \n",
       "2        2480           6.3          2015   110000000    295238201  \n",
       "3        5292           7.5          2015   200000000   2068178225  \n",
       "4        2947           7.3          2015   190000000   1506249360  "
      ]
     },
     "execution_count": 5,
     "metadata": {},
     "output_type": "execute_result"
    }
   ],
   "source": [
    "# Changes data types:\n",
    "\n",
    "df['popularity'] = df['popularity'].astype(np.int64)\n",
    "df[df['genres'].apply(lambda x: type(x)==str)]\n",
    "df['release_date'] = pd.to_datetime(df['release_date'])\n",
    "df['budget_adj'] = df['budget'].astype(np.int64)\n",
    "df['revenue_adj'] = df['revenue'].astype(np.int64)\n",
    "\n",
    "df.head()"
   ]
  },
  {
   "cell_type": "code",
   "execution_count": 6,
   "metadata": {},
   "outputs": [
    {
     "name": "stdout",
     "output_type": "stream",
     "text": [
      "Columns with NaN cells genres    23\n",
      "dtype: int64\n"
     ]
    },
    {
     "data": {
      "text/plain": [
       "(10866, 13)"
      ]
     },
     "execution_count": 6,
     "metadata": {},
     "output_type": "execute_result"
    }
   ],
   "source": [
    "# Data Wrangling: Checking for cleanliness.\n",
    "\n",
    "# Checks columns with NaN cells:\n",
    "null_columns= df.columns[df.isnull().any()]\n",
    "\n",
    "print('Columns with NaN cells', df[null_columns].isnull().sum())\n",
    "df.shape  #shows dataframe dimension"
   ]
  },
  {
   "cell_type": "code",
   "execution_count": 7,
   "metadata": {},
   "outputs": [
    {
     "name": "stdout",
     "output_type": "stream",
     "text": [
      "23 NaNs before cleanup and 0 after.\n"
     ]
    },
    {
     "data": {
      "text/plain": [
       "(10843, 13)"
      ]
     },
     "execution_count": 7,
     "metadata": {},
     "output_type": "execute_result"
    }
   ],
   "source": [
    "# Drops rows with NaN values:\n",
    "\n",
    "NaN_row = df.isnull().sum().sum()\n",
    "df= df.dropna()\n",
    "NaN_row2 = df.isnull().sum().sum()\n",
    "\n",
    "print('{} NaNs before cleanup and {} after.'.format(NaN_row,NaN_row2))\n",
    "df.shape\n"
   ]
  },
  {
   "cell_type": "code",
   "execution_count": 8,
   "metadata": {},
   "outputs": [
    {
     "name": "stdout",
     "output_type": "stream",
     "text": [
      "1 Duplicate(s) before cleaning  and 0 after.\n"
     ]
    }
   ],
   "source": [
    "# Checks and Drops duplicates:\n",
    "\n",
    "dup_bef = sum(df.duplicated())\n",
    "\n",
    "df.drop_duplicates(keep=False, inplace=True) # Drops duplicates and update dataframe\n",
    "dup_aft = sum(df.duplicated())\n",
    "\n",
    "print('{} Duplicate(s) before cleaning  and {} after.'.format(dup_bef,dup_aft))\n"
   ]
  },
  {
   "cell_type": "code",
   "execution_count": 9,
   "metadata": {},
   "outputs": [
    {
     "name": "stdout",
     "output_type": "stream",
     "text": [
      "<class 'pandas.core.frame.DataFrame'>\n",
      "Int64Index: 10841 entries, 0 to 10865\n",
      "Data columns (total 13 columns):\n",
      "id                10841 non-null int64\n",
      "popularity        10841 non-null int64\n",
      "budget            10841 non-null int64\n",
      "revenue           10841 non-null int64\n",
      "original_title    10841 non-null object\n",
      "runtime           10841 non-null int64\n",
      "genres            10841 non-null object\n",
      "release_date      10841 non-null datetime64[ns]\n",
      "vote_count        10841 non-null int64\n",
      "vote_average      10841 non-null float64\n",
      "release_year      10841 non-null int64\n",
      "budget_adj        10841 non-null int64\n",
      "revenue_adj       10841 non-null int64\n",
      "dtypes: datetime64[ns](1), float64(1), int64(9), object(2)\n",
      "memory usage: 1.2+ MB\n"
     ]
    },
    {
     "data": {
      "text/plain": [
       "(10841, 13)"
      ]
     },
     "execution_count": 9,
     "metadata": {},
     "output_type": "execute_result"
    }
   ],
   "source": [
    "df.info()\n",
    "df.shape"
   ]
  },
  {
   "cell_type": "code",
   "execution_count": 10,
   "metadata": {},
   "outputs": [
    {
     "data": {
      "text/html": [
       "<div>\n",
       "<style scoped>\n",
       "    .dataframe tbody tr th:only-of-type {\n",
       "        vertical-align: middle;\n",
       "    }\n",
       "\n",
       "    .dataframe tbody tr th {\n",
       "        vertical-align: top;\n",
       "    }\n",
       "\n",
       "    .dataframe thead th {\n",
       "        text-align: right;\n",
       "    }\n",
       "</style>\n",
       "<table border=\"1\" class=\"dataframe\">\n",
       "  <thead>\n",
       "    <tr style=\"text-align: right;\">\n",
       "      <th></th>\n",
       "      <th></th>\n",
       "      <th></th>\n",
       "      <th>id</th>\n",
       "      <th>budget</th>\n",
       "      <th>revenue</th>\n",
       "      <th>runtime</th>\n",
       "      <th>release_date</th>\n",
       "      <th>vote_count</th>\n",
       "      <th>vote_average</th>\n",
       "      <th>release_year</th>\n",
       "      <th>budget_adj</th>\n",
       "      <th>revenue_adj</th>\n",
       "    </tr>\n",
       "    <tr>\n",
       "      <th>popularity</th>\n",
       "      <th>original_title</th>\n",
       "      <th>genres</th>\n",
       "      <th></th>\n",
       "      <th></th>\n",
       "      <th></th>\n",
       "      <th></th>\n",
       "      <th></th>\n",
       "      <th></th>\n",
       "      <th></th>\n",
       "      <th></th>\n",
       "      <th></th>\n",
       "      <th></th>\n",
       "    </tr>\n",
       "  </thead>\n",
       "  <tbody>\n",
       "    <tr>\n",
       "      <th rowspan=\"5\" valign=\"top\">0</th>\n",
       "      <th>44 Minutes: The North Hollywood Shoot-Out</th>\n",
       "      <th>Action</th>\n",
       "      <td>14842</td>\n",
       "      <td>10000000</td>\n",
       "      <td>0</td>\n",
       "      <td>103</td>\n",
       "      <td>2003-01-01</td>\n",
       "      <td>13</td>\n",
       "      <td>6.2</td>\n",
       "      <td>2003</td>\n",
       "      <td>10000000</td>\n",
       "      <td>0</td>\n",
       "    </tr>\n",
       "    <tr>\n",
       "      <th>A Good Man</th>\n",
       "      <th>Action</th>\n",
       "      <td>286668</td>\n",
       "      <td>7000000</td>\n",
       "      <td>0</td>\n",
       "      <td>100</td>\n",
       "      <td>2014-08-19</td>\n",
       "      <td>26</td>\n",
       "      <td>4.9</td>\n",
       "      <td>2014</td>\n",
       "      <td>7000000</td>\n",
       "      <td>0</td>\n",
       "    </tr>\n",
       "    <tr>\n",
       "      <th>Absolute Deception</th>\n",
       "      <th>Action</th>\n",
       "      <td>199556</td>\n",
       "      <td>5000000</td>\n",
       "      <td>0</td>\n",
       "      <td>92</td>\n",
       "      <td>2013-06-10</td>\n",
       "      <td>14</td>\n",
       "      <td>4.4</td>\n",
       "      <td>2013</td>\n",
       "      <td>5000000</td>\n",
       "      <td>0</td>\n",
       "    </tr>\n",
       "    <tr>\n",
       "      <th>Agent Cody Banks</th>\n",
       "      <th>Action</th>\n",
       "      <td>10923</td>\n",
       "      <td>28000000</td>\n",
       "      <td>58795814</td>\n",
       "      <td>102</td>\n",
       "      <td>2003-03-12</td>\n",
       "      <td>161</td>\n",
       "      <td>4.9</td>\n",
       "      <td>2003</td>\n",
       "      <td>28000000</td>\n",
       "      <td>58795814</td>\n",
       "    </tr>\n",
       "    <tr>\n",
       "      <th>Alatriste</th>\n",
       "      <th>Action</th>\n",
       "      <td>13495</td>\n",
       "      <td>24000000</td>\n",
       "      <td>23321954</td>\n",
       "      <td>145</td>\n",
       "      <td>2006-09-01</td>\n",
       "      <td>31</td>\n",
       "      <td>5.7</td>\n",
       "      <td>2006</td>\n",
       "      <td>24000000</td>\n",
       "      <td>23321954</td>\n",
       "    </tr>\n",
       "  </tbody>\n",
       "</table>\n",
       "</div>"
      ],
      "text/plain": [
       "                                                                 id    budget  \\\n",
       "popularity original_title                            genres                     \n",
       "0          44 Minutes: The North Hollywood Shoot-Out Action   14842  10000000   \n",
       "           A Good Man                                Action  286668   7000000   \n",
       "           Absolute Deception                        Action  199556   5000000   \n",
       "           Agent Cody Banks                          Action   10923  28000000   \n",
       "           Alatriste                                 Action   13495  24000000   \n",
       "\n",
       "                                                              revenue  \\\n",
       "popularity original_title                            genres             \n",
       "0          44 Minutes: The North Hollywood Shoot-Out Action         0   \n",
       "           A Good Man                                Action         0   \n",
       "           Absolute Deception                        Action         0   \n",
       "           Agent Cody Banks                          Action  58795814   \n",
       "           Alatriste                                 Action  23321954   \n",
       "\n",
       "                                                             runtime  \\\n",
       "popularity original_title                            genres            \n",
       "0          44 Minutes: The North Hollywood Shoot-Out Action      103   \n",
       "           A Good Man                                Action      100   \n",
       "           Absolute Deception                        Action       92   \n",
       "           Agent Cody Banks                          Action      102   \n",
       "           Alatriste                                 Action      145   \n",
       "\n",
       "                                                            release_date  \\\n",
       "popularity original_title                            genres                \n",
       "0          44 Minutes: The North Hollywood Shoot-Out Action   2003-01-01   \n",
       "           A Good Man                                Action   2014-08-19   \n",
       "           Absolute Deception                        Action   2013-06-10   \n",
       "           Agent Cody Banks                          Action   2003-03-12   \n",
       "           Alatriste                                 Action   2006-09-01   \n",
       "\n",
       "                                                             vote_count  \\\n",
       "popularity original_title                            genres               \n",
       "0          44 Minutes: The North Hollywood Shoot-Out Action          13   \n",
       "           A Good Man                                Action          26   \n",
       "           Absolute Deception                        Action          14   \n",
       "           Agent Cody Banks                          Action         161   \n",
       "           Alatriste                                 Action          31   \n",
       "\n",
       "                                                             vote_average  \\\n",
       "popularity original_title                            genres                 \n",
       "0          44 Minutes: The North Hollywood Shoot-Out Action           6.2   \n",
       "           A Good Man                                Action           4.9   \n",
       "           Absolute Deception                        Action           4.4   \n",
       "           Agent Cody Banks                          Action           4.9   \n",
       "           Alatriste                                 Action           5.7   \n",
       "\n",
       "                                                             release_year  \\\n",
       "popularity original_title                            genres                 \n",
       "0          44 Minutes: The North Hollywood Shoot-Out Action          2003   \n",
       "           A Good Man                                Action          2014   \n",
       "           Absolute Deception                        Action          2013   \n",
       "           Agent Cody Banks                          Action          2003   \n",
       "           Alatriste                                 Action          2006   \n",
       "\n",
       "                                                             budget_adj  \\\n",
       "popularity original_title                            genres               \n",
       "0          44 Minutes: The North Hollywood Shoot-Out Action    10000000   \n",
       "           A Good Man                                Action     7000000   \n",
       "           Absolute Deception                        Action     5000000   \n",
       "           Agent Cody Banks                          Action    28000000   \n",
       "           Alatriste                                 Action    24000000   \n",
       "\n",
       "                                                             revenue_adj  \n",
       "popularity original_title                            genres               \n",
       "0          44 Minutes: The North Hollywood Shoot-Out Action            0  \n",
       "           A Good Man                                Action            0  \n",
       "           Absolute Deception                        Action            0  \n",
       "           Agent Cody Banks                          Action     58795814  \n",
       "           Alatriste                                 Action     23321954  "
      ]
     },
     "execution_count": 10,
     "metadata": {},
     "output_type": "execute_result"
    }
   ],
   "source": [
    "# Index dataframe by popularity, genres and tittle to create a pivot view\n",
    "df = df.sort_values(by=['popularity','genres','original_title'])\n",
    "\n",
    "idx= ['popularity','original_title','genres']\n",
    "multi_indexed_df = df.set_index(idx)\n",
    "multi_indexed_df.head()\n"
   ]
  },
  {
   "cell_type": "code",
   "execution_count": 11,
   "metadata": {},
   "outputs": [
    {
     "name": "stdout",
     "output_type": "stream",
     "text": [
      "<class 'pandas.core.frame.DataFrame'>\n",
      "MultiIndex: 10841 entries, (0, 44 Minutes: The North Hollywood Shoot-Out, Action) to (32, Jurassic World, Action|Adventure|Science Fiction|Thriller)\n",
      "Data columns (total 10 columns):\n",
      "id              10841 non-null int64\n",
      "budget          10841 non-null int64\n",
      "revenue         10841 non-null int64\n",
      "runtime         10841 non-null int64\n",
      "release_date    10841 non-null datetime64[ns]\n",
      "vote_count      10841 non-null int64\n",
      "vote_average    10841 non-null float64\n",
      "release_year    10841 non-null int64\n",
      "budget_adj      10841 non-null int64\n",
      "revenue_adj     10841 non-null int64\n",
      "dtypes: datetime64[ns](1), float64(1), int64(8)\n",
      "memory usage: 998.5+ KB\n"
     ]
    }
   ],
   "source": [
    "multi_indexed_df.info()"
   ]
  },
  {
   "cell_type": "code",
   "execution_count": 12,
   "metadata": {},
   "outputs": [
    {
     "data": {
      "text/html": [
       "<div>\n",
       "<style scoped>\n",
       "    .dataframe tbody tr th:only-of-type {\n",
       "        vertical-align: middle;\n",
       "    }\n",
       "\n",
       "    .dataframe tbody tr th {\n",
       "        vertical-align: top;\n",
       "    }\n",
       "\n",
       "    .dataframe thead th {\n",
       "        text-align: right;\n",
       "    }\n",
       "</style>\n",
       "<table border=\"1\" class=\"dataframe\">\n",
       "  <thead>\n",
       "    <tr style=\"text-align: right;\">\n",
       "      <th></th>\n",
       "      <th>name</th>\n",
       "      <th>genre</th>\n",
       "    </tr>\n",
       "  </thead>\n",
       "  <tbody>\n",
       "    <tr>\n",
       "      <th>0</th>\n",
       "      <td>Movie 1</td>\n",
       "      <td>Action</td>\n",
       "    </tr>\n",
       "    <tr>\n",
       "      <th>1</th>\n",
       "      <td>Movie 1</td>\n",
       "      <td>Fantasy</td>\n",
       "    </tr>\n",
       "    <tr>\n",
       "      <th>2</th>\n",
       "      <td>Movie 1</td>\n",
       "      <td>Horror</td>\n",
       "    </tr>\n",
       "    <tr>\n",
       "      <th>3</th>\n",
       "      <td>Movie 2</td>\n",
       "      <td>Action</td>\n",
       "    </tr>\n",
       "    <tr>\n",
       "      <th>4</th>\n",
       "      <td>Movie 2</td>\n",
       "      <td>Comedy</td>\n",
       "    </tr>\n",
       "    <tr>\n",
       "      <th>5</th>\n",
       "      <td>Movie 2</td>\n",
       "      <td>Family</td>\n",
       "    </tr>\n",
       "    <tr>\n",
       "      <th>6</th>\n",
       "      <td>Movie 3</td>\n",
       "      <td>Biography</td>\n",
       "    </tr>\n",
       "    <tr>\n",
       "      <th>7</th>\n",
       "      <td>Movie 3</td>\n",
       "      <td>Drama</td>\n",
       "    </tr>\n",
       "    <tr>\n",
       "      <th>8</th>\n",
       "      <td>Movie 4</td>\n",
       "      <td>Biography</td>\n",
       "    </tr>\n",
       "    <tr>\n",
       "      <th>9</th>\n",
       "      <td>Movie 4</td>\n",
       "      <td>Drama</td>\n",
       "    </tr>\n",
       "    <tr>\n",
       "      <th>10</th>\n",
       "      <td>Movie 4</td>\n",
       "      <td>Romance</td>\n",
       "    </tr>\n",
       "    <tr>\n",
       "      <th>11</th>\n",
       "      <td>Movie 5</td>\n",
       "      <td>Drama</td>\n",
       "    </tr>\n",
       "    <tr>\n",
       "      <th>12</th>\n",
       "      <td>Movie 6</td>\n",
       "      <td>Documentary</td>\n",
       "    </tr>\n",
       "  </tbody>\n",
       "</table>\n",
       "</div>"
      ],
      "text/plain": [
       "       name        genre\n",
       "0   Movie 1       Action\n",
       "1   Movie 1      Fantasy\n",
       "2   Movie 1       Horror\n",
       "3   Movie 2       Action\n",
       "4   Movie 2       Comedy\n",
       "5   Movie 2       Family\n",
       "6   Movie 3    Biography\n",
       "7   Movie 3        Drama\n",
       "8   Movie 4    Biography\n",
       "9   Movie 4        Drama\n",
       "10  Movie 4      Romance\n",
       "11  Movie 5        Drama\n",
       "12  Movie 6  Documentary"
      ]
     },
     "execution_count": 12,
     "metadata": {},
     "output_type": "execute_result"
    }
   ],
   "source": [
    "movie_list = [\n",
    "    {'name': 'Movie 1',\n",
    "    'genre' :'Action, Fantasy, Horror'},\n",
    "    {'name': 'Movie 2',\n",
    "    'genre' :'Action, Comedy, Family'},\n",
    "    {'name': 'Movie 3',\n",
    "    'genre' :'Biography, Drama'},\n",
    "    {'name': 'Movie 4',\n",
    "    'genre' :'Biography, Drama, Romance'},\n",
    "    {'name': 'Movie 5',\n",
    "    'genre' :'Drama'},\n",
    "    {'name': 'Movie 6',\n",
    "    'genre' :'Documentary'},\n",
    "]\n",
    "\n",
    "def reformat_movie_list(movies):\n",
    "    name = []\n",
    "    genre = []\n",
    "    result = pd.DataFrame()\n",
    "    for movie in movies:\n",
    "        movie_name = movie[\"name\"]\n",
    "        movie_genres = movie[\"genre\"].split(\",\")\n",
    "        for movie_genre in movie_genres:\n",
    "            name.append(movie_name.strip())\n",
    "            genre.append(movie_genre.strip())\n",
    "    result[\"name\"] = name\n",
    "    result[\"genre\"] = genre\n",
    "    return result\n",
    "\n",
    "reformat_movie_list(movie_list)"
   ]
  },
  {
   "cell_type": "code",
   "execution_count": 13,
   "metadata": {},
   "outputs": [
    {
     "name": "stdout",
     "output_type": "stream",
     "text": [
      "                                        name   genre\n",
      "0  44 Minutes: The North Hollywood Shoot-Out  Action\n",
      "1                                 A Good Man  Action\n",
      "2                         Absolute Deception  Action\n",
      "3                           Agent Cody Banks  Action\n",
      "4                                  Alatriste  Action\n"
     ]
    }
   ],
   "source": [
    "\n",
    "def reformat_movie_list(movies):\n",
    "    name_list = []\n",
    "    genre_list = []\n",
    "    result = pd.DataFrame()\n",
    "    \n",
    "    for i, movie in movies:\n",
    "        movie_name = movie[\"original_title\"]\n",
    "        for agenre in movie[\"genres\"].split(\"|\"):\n",
    "            name_list.append(movie_name)\n",
    "            genre_list.append(agenre)\n",
    "           \n",
    "    result[\"name\"] = name_list\n",
    "    result[\"genre\"] = genre_list\n",
    "    \n",
    "    return(result)\n",
    "\n",
    "\n",
    "var = reformat_movie_list(df.iterrows())\n",
    "print(var.head())\n",
    "\n",
    "        "
   ]
  },
  {
   "cell_type": "code",
   "execution_count": 14,
   "metadata": {},
   "outputs": [
    {
     "ename": "SyntaxError",
     "evalue": "invalid syntax (<ipython-input-14-dcdb0daeb121>, line 2)",
     "traceback": [
      "\u001b[0;36m  File \u001b[0;32m\"<ipython-input-14-dcdb0daeb121>\"\u001b[0;36m, line \u001b[0;32m2\u001b[0m\n\u001b[0;31m    var.(reformat_movie_list(df.iterrows())\u001b[0m\n\u001b[0m        ^\u001b[0m\n\u001b[0;31mSyntaxError\u001b[0m\u001b[0;31m:\u001b[0m invalid syntax\n"
     ],
     "output_type": "error"
    }
   ],
   "source": [
    "\n",
    "var.(reformat_movie_list(df.iterrows())\n",
    "            "
   ]
  },
  {
   "cell_type": "code",
   "execution_count": null,
   "metadata": {},
   "outputs": [],
   "source": [
    "# Load your data and print out a few lines. Perform operations to inspect data\n",
    "#   types and look for instances of missing or possibly errant data.\n"
   ]
  },
  {
   "cell_type": "markdown",
   "metadata": {},
   "source": [
    "> **Tip**: You should _not_ perform too many operations in each cell. Create cells freely to explore your data. One option that you can take with this project is to do a lot of explorations in an initial notebook. These don't have to be organized, but make sure you use enough comments to understand the purpose of each code cell. Then, after you're done with your analysis, create a duplicate notebook where you will trim the excess and organize your steps so that you have a flowing, cohesive report.\n",
    "\n",
    "> **Tip**: Make sure that you keep your reader informed on the steps that you are taking in your investigation. Follow every code cell, or every set of related code cells, with a markdown cell to describe to the reader what was found in the preceding cell(s). Try to make it so that the reader can then understand what they will be seeing in the following cell(s).\n",
    "\n",
    "### Data Cleaning (Replace this with more specific notes!)"
   ]
  },
  {
   "cell_type": "code",
   "execution_count": null,
   "metadata": {
    "scrolled": true
   },
   "outputs": [],
   "source": [
    "# After discussing the structure of the data and any problems that need to be\n",
    "#   cleaned, perform those cleaning steps in the second part of this section.\n"
   ]
  },
  {
   "cell_type": "markdown",
   "metadata": {},
   "source": [
    "<a id='eda'></a>\n",
    "## Exploratory Data Analysis\n",
    "\n",
    "> **Tip**: Now that you've trimmed and cleaned your data, you're ready to move on to exploration. Compute statistics and create visualizations with the goal of addressing the research questions that you posed in the Introduction section. It is recommended that you be systematic with your approach. Look at one variable at a time, and then follow it up by looking at relationships between variables.\n",
    "\n",
    "### Research Question 1 (Replace this header name!)"
   ]
  },
  {
   "cell_type": "code",
   "execution_count": null,
   "metadata": {
    "scrolled": true
   },
   "outputs": [],
   "source": [
    "# Use this, and more code cells, to explore your data. Don't forget to add\n",
    "#   Markdown cells to document your observations and findings.\n"
   ]
  },
  {
   "cell_type": "markdown",
   "metadata": {},
   "source": [
    "### Research Question 2  (Replace this header name!)"
   ]
  },
  {
   "cell_type": "code",
   "execution_count": null,
   "metadata": {
    "scrolled": true
   },
   "outputs": [],
   "source": [
    "# Continue to explore the data to address your additional research\n",
    "#   questions. Add more headers as needed if you have more questions to\n",
    "#   investigate.\n"
   ]
  },
  {
   "cell_type": "markdown",
   "metadata": {},
   "source": [
    "<a id='conclusions'></a>\n",
    "## Conclusions\n",
    "\n",
    "> **Tip**: Finally, summarize your findings and the results that have been performed. Make sure that you are clear with regards to the limitations of your exploration. If you haven't done any statistical tests, do not imply any statistical conclusions. And make sure you avoid implying causation from correlation!\n",
    "\n",
    "> **Tip**: Once you are satisfied with your work, you should save a copy of the report in HTML or PDF form via the **File** > **Download as** submenu. Before exporting your report, check over it to make sure that the flow of the report is complete. You should probably remove all of the \"Tip\" quotes like this one so that the presentation is as tidy as possible. Congratulations!"
   ]
  },
  {
   "cell_type": "code",
   "execution_count": null,
   "metadata": {
    "scrolled": true
   },
   "outputs": [],
   "source": []
  }
 ],
 "metadata": {
  "celltoolbar": "Raw Cell Format",
  "kernelspec": {
   "display_name": "Python 3",
   "language": "python",
   "name": "python3"
  },
  "language_info": {
   "codemirror_mode": {
    "name": "ipython",
    "version": 3
   },
   "file_extension": ".py",
   "mimetype": "text/x-python",
   "name": "python",
   "nbconvert_exporter": "python",
   "pygments_lexer": "ipython3",
   "version": "3.6.6"
  }
 },
 "nbformat": 4,
 "nbformat_minor": 2
}
