{
 "cells": [
  {
   "cell_type": "markdown",
   "metadata": {},
   "source": [
    "# Introduction\n",
    "\n",
    "This report is based on a TMDB Movies dataset as the selected choice to analyse about 10,000 movies collected from The Movie Database (TMDb), including user ratings and revenue. With the aim to answer questions such as:\n",
    "\n",
    "- Which genres are most popular from year to year? \n",
    "- What kinds of properties are associated with movies that have high revenues?\n",
    "\n",
    "Try to build your report around the analysis of at least one dependent variable and \n",
    "three independent variables.\n",
    "make sure you familiarize yourself with the variables and the dataset context for ideas \n",
    "of what to explore."
   ]
  },
  {
   "cell_type": "code",
   "execution_count": 3,
   "metadata": {},
   "outputs": [
    {
     "name": "stdout",
     "output_type": "stream",
     "text": [
      "Using matplotlib backend: MacOSX\n"
     ]
    }
   ],
   "source": [
    "# Imports statements for all of the packages to be use. Including magic word for plot:\n",
    "\n",
    "import pandas as pd\n",
    "import numpy as np\n",
    "\n",
    "\n",
    "%matplotlib\n",
    "\n",
    "# Loads CSV file:\n",
    "\n",
    "filename= \"tmdb-movies.csv\"\n",
    "df = pd.read_csv(filename)"
   ]
  },
  {
   "cell_type": "code",
   "execution_count": 4,
   "metadata": {},
   "outputs": [
    {
     "name": "stdout",
     "output_type": "stream",
     "text": [
      "<class 'pandas.core.frame.DataFrame'>\n",
      "RangeIndex: 10866 entries, 0 to 10865\n",
      "Data columns (total 21 columns):\n",
      "id                      10866 non-null int64\n",
      "imdb_id                 10856 non-null object\n",
      "popularity              10866 non-null float64\n",
      "budget                  10866 non-null int64\n",
      "revenue                 10866 non-null int64\n",
      "original_title          10866 non-null object\n",
      "cast                    10790 non-null object\n",
      "homepage                2936 non-null object\n",
      "director                10822 non-null object\n",
      "tagline                 8042 non-null object\n",
      "keywords                9373 non-null object\n",
      "overview                10862 non-null object\n",
      "runtime                 10866 non-null int64\n",
      "genres                  10843 non-null object\n",
      "production_companies    9836 non-null object\n",
      "release_date            10866 non-null object\n",
      "vote_count              10866 non-null int64\n",
      "vote_average            10866 non-null float64\n",
      "release_year            10866 non-null int64\n",
      "budget_adj              10866 non-null float64\n",
      "revenue_adj             10866 non-null float64\n",
      "dtypes: float64(4), int64(6), object(11)\n",
      "memory usage: 1.7+ MB\n"
     ]
    },
    {
     "data": {
      "text/plain": [
       "(10866, 21)"
      ]
     },
     "execution_count": 4,
     "metadata": {},
     "output_type": "execute_result"
    }
   ],
   "source": [
    "# Allows to see which columns have missing values()\n",
    "\n",
    "df.info()  \n",
    "df.shape"
   ]
  },
  {
   "cell_type": "code",
   "execution_count": 5,
   "metadata": {},
   "outputs": [
    {
     "data": {
      "text/plain": [
       "(10866, 13)"
      ]
     },
     "execution_count": 5,
     "metadata": {},
     "output_type": "execute_result"
    }
   ],
   "source": [
    "# Trims and cleans data set for analysis:\n",
    "\n",
    "to_drop = ['imdb_id','cast','homepage', 'director', 'tagline', 'keywords','overview','production_companies']\n",
    "df.drop(to_drop, inplace= True, axis=1) # Drops columns that are not useful for analysis and updates dataframe\n",
    "df.reset_index(level=0, drop=True)  # Resets dataframe index\n",
    "df.shape  #shows dataframe dimension after previous changes"
   ]
  },
  {
   "cell_type": "code",
   "execution_count": 6,
   "metadata": {},
   "outputs": [
    {
     "data": {
      "text/html": [
       "<div>\n",
       "<style scoped>\n",
       "    .dataframe tbody tr th:only-of-type {\n",
       "        vertical-align: middle;\n",
       "    }\n",
       "\n",
       "    .dataframe tbody tr th {\n",
       "        vertical-align: top;\n",
       "    }\n",
       "\n",
       "    .dataframe thead th {\n",
       "        text-align: right;\n",
       "    }\n",
       "</style>\n",
       "<table border=\"1\" class=\"dataframe\">\n",
       "  <thead>\n",
       "    <tr style=\"text-align: right;\">\n",
       "      <th></th>\n",
       "      <th>id</th>\n",
       "      <th>popularity</th>\n",
       "      <th>budget</th>\n",
       "      <th>revenue</th>\n",
       "      <th>original_title</th>\n",
       "      <th>runtime</th>\n",
       "      <th>genres</th>\n",
       "      <th>release_date</th>\n",
       "      <th>vote_count</th>\n",
       "      <th>vote_average</th>\n",
       "      <th>release_year</th>\n",
       "      <th>budget_adj</th>\n",
       "      <th>revenue_adj</th>\n",
       "    </tr>\n",
       "  </thead>\n",
       "  <tbody>\n",
       "    <tr>\n",
       "      <th>10861</th>\n",
       "      <td>21</td>\n",
       "      <td>0.080598</td>\n",
       "      <td>0</td>\n",
       "      <td>0</td>\n",
       "      <td>The Endless Summer</td>\n",
       "      <td>95</td>\n",
       "      <td>Documentary</td>\n",
       "      <td>6/15/66</td>\n",
       "      <td>11</td>\n",
       "      <td>7.4</td>\n",
       "      <td>1966</td>\n",
       "      <td>0.000000</td>\n",
       "      <td>0.0</td>\n",
       "    </tr>\n",
       "    <tr>\n",
       "      <th>10862</th>\n",
       "      <td>20379</td>\n",
       "      <td>0.065543</td>\n",
       "      <td>0</td>\n",
       "      <td>0</td>\n",
       "      <td>Grand Prix</td>\n",
       "      <td>176</td>\n",
       "      <td>Action|Adventure|Drama</td>\n",
       "      <td>12/21/66</td>\n",
       "      <td>20</td>\n",
       "      <td>5.7</td>\n",
       "      <td>1966</td>\n",
       "      <td>0.000000</td>\n",
       "      <td>0.0</td>\n",
       "    </tr>\n",
       "    <tr>\n",
       "      <th>10863</th>\n",
       "      <td>39768</td>\n",
       "      <td>0.065141</td>\n",
       "      <td>0</td>\n",
       "      <td>0</td>\n",
       "      <td>Beregis Avtomobilya</td>\n",
       "      <td>94</td>\n",
       "      <td>Mystery|Comedy</td>\n",
       "      <td>1/1/66</td>\n",
       "      <td>11</td>\n",
       "      <td>6.5</td>\n",
       "      <td>1966</td>\n",
       "      <td>0.000000</td>\n",
       "      <td>0.0</td>\n",
       "    </tr>\n",
       "    <tr>\n",
       "      <th>10864</th>\n",
       "      <td>21449</td>\n",
       "      <td>0.064317</td>\n",
       "      <td>0</td>\n",
       "      <td>0</td>\n",
       "      <td>What's Up, Tiger Lily?</td>\n",
       "      <td>80</td>\n",
       "      <td>Action|Comedy</td>\n",
       "      <td>11/2/66</td>\n",
       "      <td>22</td>\n",
       "      <td>5.4</td>\n",
       "      <td>1966</td>\n",
       "      <td>0.000000</td>\n",
       "      <td>0.0</td>\n",
       "    </tr>\n",
       "    <tr>\n",
       "      <th>10865</th>\n",
       "      <td>22293</td>\n",
       "      <td>0.035919</td>\n",
       "      <td>19000</td>\n",
       "      <td>0</td>\n",
       "      <td>Manos: The Hands of Fate</td>\n",
       "      <td>74</td>\n",
       "      <td>Horror</td>\n",
       "      <td>11/15/66</td>\n",
       "      <td>15</td>\n",
       "      <td>1.5</td>\n",
       "      <td>1966</td>\n",
       "      <td>127642.279154</td>\n",
       "      <td>0.0</td>\n",
       "    </tr>\n",
       "  </tbody>\n",
       "</table>\n",
       "</div>"
      ],
      "text/plain": [
       "          id  popularity  budget  revenue            original_title  runtime  \\\n",
       "10861     21    0.080598       0        0        The Endless Summer       95   \n",
       "10862  20379    0.065543       0        0                Grand Prix      176   \n",
       "10863  39768    0.065141       0        0       Beregis Avtomobilya       94   \n",
       "10864  21449    0.064317       0        0    What's Up, Tiger Lily?       80   \n",
       "10865  22293    0.035919   19000        0  Manos: The Hands of Fate       74   \n",
       "\n",
       "                       genres release_date  vote_count  vote_average  \\\n",
       "10861             Documentary      6/15/66          11           7.4   \n",
       "10862  Action|Adventure|Drama     12/21/66          20           5.7   \n",
       "10863          Mystery|Comedy       1/1/66          11           6.5   \n",
       "10864           Action|Comedy      11/2/66          22           5.4   \n",
       "10865                  Horror     11/15/66          15           1.5   \n",
       "\n",
       "       release_year     budget_adj  revenue_adj  \n",
       "10861          1966       0.000000          0.0  \n",
       "10862          1966       0.000000          0.0  \n",
       "10863          1966       0.000000          0.0  \n",
       "10864          1966       0.000000          0.0  \n",
       "10865          1966  127642.279154          0.0  "
      ]
     },
     "execution_count": 6,
     "metadata": {},
     "output_type": "execute_result"
    }
   ],
   "source": [
    "# Explores data\n",
    "df.tail()"
   ]
  },
  {
   "cell_type": "code",
   "execution_count": 37,
   "metadata": {
    "scrolled": false
   },
   "outputs": [
    {
     "data": {
      "text/plain": [
       "pandas.core.series.Series"
      ]
     },
     "execution_count": 37,
     "metadata": {},
     "output_type": "execute_result"
    }
   ],
   "source": [
    "# Changes data types:\n",
    "\n",
    "df['popularity'] = df['popularity'].astype(np.int64)\n",
    "df['genres'] = df['genres']\n",
    "df[df['original_title'].apply(lambda x: type(x)==str)]\n",
    "#df[df['genres'].apply(lambda x: type(x)==str)]\n",
    "#df[df['original_title'].apply(lambda x: type(x)==str)]\n",
    "df['release_date'] = pd.to_datetime(df['release_date'])\n",
    "df['budget_adj'] = df['budget'].astype(np.int64)\n",
    "df['revenue_adj'] = df['revenue'].astype(np.int64)\n",
    "\n",
    "#type(df)\n",
    "type(df.original_title)\n"
   ]
  },
  {
   "cell_type": "code",
   "execution_count": 8,
   "metadata": {},
   "outputs": [
    {
     "name": "stdout",
     "output_type": "stream",
     "text": [
      "Columns with NaN cells genres    23\n",
      "dtype: int64\n"
     ]
    },
    {
     "data": {
      "text/plain": [
       "(10866, 13)"
      ]
     },
     "execution_count": 8,
     "metadata": {},
     "output_type": "execute_result"
    }
   ],
   "source": [
    "# Data Wrangling: Checking for cleanliness.\n",
    "\n",
    "# Checks columns with NaN cells:\n",
    "null_columns= df.columns[df.isnull().any()]\n",
    "\n",
    "print('Columns with NaN cells', df[null_columns].isnull().sum())\n",
    "df.shape  #shows dataframe dimension"
   ]
  },
  {
   "cell_type": "code",
   "execution_count": 9,
   "metadata": {},
   "outputs": [
    {
     "name": "stdout",
     "output_type": "stream",
     "text": [
      "23 NaNs before cleanup and 0 after.\n"
     ]
    },
    {
     "data": {
      "text/plain": [
       "(10843, 13)"
      ]
     },
     "execution_count": 9,
     "metadata": {},
     "output_type": "execute_result"
    }
   ],
   "source": [
    "# Drops rows with NaN values:\n",
    "\n",
    "NaN_row = df.isnull().sum().sum()\n",
    "df= df.dropna()\n",
    "NaN_row2 = df.isnull().sum().sum()\n",
    "\n",
    "print('{} NaNs before cleanup and {} after.'.format(NaN_row,NaN_row2))\n",
    "df.shape\n"
   ]
  },
  {
   "cell_type": "code",
   "execution_count": 10,
   "metadata": {},
   "outputs": [
    {
     "name": "stdout",
     "output_type": "stream",
     "text": [
      "1 Duplicate(s) before cleaning  and 0 after.\n"
     ]
    }
   ],
   "source": [
    "# Checks and Drops duplicates:\n",
    "\n",
    "dup_bef = sum(df.duplicated())\n",
    "\n",
    "df.drop_duplicates(keep=False, inplace=True) # Drops duplicates and update dataframe\n",
    "dup_aft = sum(df.duplicated())\n",
    "\n",
    "print('{} Duplicate(s) before cleaning  and {} after.'.format(dup_bef,dup_aft))\n"
   ]
  },
  {
   "cell_type": "code",
   "execution_count": 11,
   "metadata": {},
   "outputs": [
    {
     "data": {
      "text/plain": [
       "(10841, 13)"
      ]
     },
     "execution_count": 11,
     "metadata": {},
     "output_type": "execute_result"
    }
   ],
   "source": [
    "\n",
    "df.shape"
   ]
  },
  {
   "cell_type": "code",
   "execution_count": 12,
   "metadata": {
    "scrolled": true
   },
   "outputs": [
    {
     "data": {
      "text/html": [
       "<div>\n",
       "<style scoped>\n",
       "    .dataframe tbody tr th:only-of-type {\n",
       "        vertical-align: middle;\n",
       "    }\n",
       "\n",
       "    .dataframe tbody tr th {\n",
       "        vertical-align: top;\n",
       "    }\n",
       "\n",
       "    .dataframe thead th {\n",
       "        text-align: right;\n",
       "    }\n",
       "</style>\n",
       "<table border=\"1\" class=\"dataframe\">\n",
       "  <thead>\n",
       "    <tr style=\"text-align: right;\">\n",
       "      <th></th>\n",
       "      <th></th>\n",
       "      <th></th>\n",
       "      <th></th>\n",
       "      <th>id</th>\n",
       "      <th>budget</th>\n",
       "      <th>revenue</th>\n",
       "      <th>runtime</th>\n",
       "      <th>release_date</th>\n",
       "      <th>vote_count</th>\n",
       "      <th>vote_average</th>\n",
       "      <th>budget_adj</th>\n",
       "      <th>revenue_adj</th>\n",
       "    </tr>\n",
       "    <tr>\n",
       "      <th>release_year</th>\n",
       "      <th>genres</th>\n",
       "      <th>popularity</th>\n",
       "      <th>original_title</th>\n",
       "      <th></th>\n",
       "      <th></th>\n",
       "      <th></th>\n",
       "      <th></th>\n",
       "      <th></th>\n",
       "      <th></th>\n",
       "      <th></th>\n",
       "      <th></th>\n",
       "      <th></th>\n",
       "    </tr>\n",
       "  </thead>\n",
       "  <tbody>\n",
       "    <tr>\n",
       "      <th rowspan=\"5\" valign=\"top\">2015</th>\n",
       "      <th>Western|Drama|Adventure|Thriller</th>\n",
       "      <th>9</th>\n",
       "      <th>The Revenant</th>\n",
       "      <td>281957</td>\n",
       "      <td>135000000</td>\n",
       "      <td>532950503</td>\n",
       "      <td>156</td>\n",
       "      <td>2015-12-25</td>\n",
       "      <td>3929</td>\n",
       "      <td>7.2</td>\n",
       "      <td>135000000</td>\n",
       "      <td>532950503</td>\n",
       "    </tr>\n",
       "    <tr>\n",
       "      <th>Western|Drama</th>\n",
       "      <th>0</th>\n",
       "      <th>Forsaken</th>\n",
       "      <td>354110</td>\n",
       "      <td>11000000</td>\n",
       "      <td>0</td>\n",
       "      <td>90</td>\n",
       "      <td>2015-09-16</td>\n",
       "      <td>53</td>\n",
       "      <td>5.6</td>\n",
       "      <td>11000000</td>\n",
       "      <td>0</td>\n",
       "    </tr>\n",
       "    <tr>\n",
       "      <th>War|Drama</th>\n",
       "      <th>0</th>\n",
       "      <th>Hyena Road</th>\n",
       "      <td>316042</td>\n",
       "      <td>0</td>\n",
       "      <td>0</td>\n",
       "      <td>120</td>\n",
       "      <td>2015-10-09</td>\n",
       "      <td>29</td>\n",
       "      <td>5.7</td>\n",
       "      <td>0</td>\n",
       "      <td>0</td>\n",
       "    </tr>\n",
       "    <tr>\n",
       "      <th>War|Adventure|Science Fiction</th>\n",
       "      <th>5</th>\n",
       "      <th>The Hunger Games: Mockingjay - Part 2</th>\n",
       "      <td>131634</td>\n",
       "      <td>160000000</td>\n",
       "      <td>650523427</td>\n",
       "      <td>136</td>\n",
       "      <td>2015-11-18</td>\n",
       "      <td>2380</td>\n",
       "      <td>6.5</td>\n",
       "      <td>160000000</td>\n",
       "      <td>650523427</td>\n",
       "    </tr>\n",
       "    <tr>\n",
       "      <th>War|Action</th>\n",
       "      <th>0</th>\n",
       "      <th>War Pigs</th>\n",
       "      <td>348811</td>\n",
       "      <td>0</td>\n",
       "      <td>0</td>\n",
       "      <td>92</td>\n",
       "      <td>2015-08-03</td>\n",
       "      <td>26</td>\n",
       "      <td>4.9</td>\n",
       "      <td>0</td>\n",
       "      <td>0</td>\n",
       "    </tr>\n",
       "  </tbody>\n",
       "</table>\n",
       "</div>"
      ],
      "text/plain": [
       "                                                                                                    id  \\\n",
       "release_year genres                           popularity original_title                                  \n",
       "2015         Western|Drama|Adventure|Thriller 9          The Revenant                           281957   \n",
       "             Western|Drama                    0          Forsaken                               354110   \n",
       "             War|Drama                        0          Hyena Road                             316042   \n",
       "             War|Adventure|Science Fiction    5          The Hunger Games: Mockingjay - Part 2  131634   \n",
       "             War|Action                       0          War Pigs                               348811   \n",
       "\n",
       "                                                                                                   budget  \\\n",
       "release_year genres                           popularity original_title                                     \n",
       "2015         Western|Drama|Adventure|Thriller 9          The Revenant                           135000000   \n",
       "             Western|Drama                    0          Forsaken                                11000000   \n",
       "             War|Drama                        0          Hyena Road                                     0   \n",
       "             War|Adventure|Science Fiction    5          The Hunger Games: Mockingjay - Part 2  160000000   \n",
       "             War|Action                       0          War Pigs                                       0   \n",
       "\n",
       "                                                                                                  revenue  \\\n",
       "release_year genres                           popularity original_title                                     \n",
       "2015         Western|Drama|Adventure|Thriller 9          The Revenant                           532950503   \n",
       "             Western|Drama                    0          Forsaken                                       0   \n",
       "             War|Drama                        0          Hyena Road                                     0   \n",
       "             War|Adventure|Science Fiction    5          The Hunger Games: Mockingjay - Part 2  650523427   \n",
       "             War|Action                       0          War Pigs                                       0   \n",
       "\n",
       "                                                                                                runtime  \\\n",
       "release_year genres                           popularity original_title                                   \n",
       "2015         Western|Drama|Adventure|Thriller 9          The Revenant                               156   \n",
       "             Western|Drama                    0          Forsaken                                    90   \n",
       "             War|Drama                        0          Hyena Road                                 120   \n",
       "             War|Adventure|Science Fiction    5          The Hunger Games: Mockingjay - Part 2      136   \n",
       "             War|Action                       0          War Pigs                                    92   \n",
       "\n",
       "                                                                                               release_date  \\\n",
       "release_year genres                           popularity original_title                                       \n",
       "2015         Western|Drama|Adventure|Thriller 9          The Revenant                            2015-12-25   \n",
       "             Western|Drama                    0          Forsaken                                2015-09-16   \n",
       "             War|Drama                        0          Hyena Road                              2015-10-09   \n",
       "             War|Adventure|Science Fiction    5          The Hunger Games: Mockingjay - Part 2   2015-11-18   \n",
       "             War|Action                       0          War Pigs                                2015-08-03   \n",
       "\n",
       "                                                                                                vote_count  \\\n",
       "release_year genres                           popularity original_title                                      \n",
       "2015         Western|Drama|Adventure|Thriller 9          The Revenant                                 3929   \n",
       "             Western|Drama                    0          Forsaken                                       53   \n",
       "             War|Drama                        0          Hyena Road                                     29   \n",
       "             War|Adventure|Science Fiction    5          The Hunger Games: Mockingjay - Part 2        2380   \n",
       "             War|Action                       0          War Pigs                                       26   \n",
       "\n",
       "                                                                                                vote_average  \\\n",
       "release_year genres                           popularity original_title                                        \n",
       "2015         Western|Drama|Adventure|Thriller 9          The Revenant                                    7.2   \n",
       "             Western|Drama                    0          Forsaken                                        5.6   \n",
       "             War|Drama                        0          Hyena Road                                      5.7   \n",
       "             War|Adventure|Science Fiction    5          The Hunger Games: Mockingjay - Part 2           6.5   \n",
       "             War|Action                       0          War Pigs                                        4.9   \n",
       "\n",
       "                                                                                                budget_adj  \\\n",
       "release_year genres                           popularity original_title                                      \n",
       "2015         Western|Drama|Adventure|Thriller 9          The Revenant                            135000000   \n",
       "             Western|Drama                    0          Forsaken                                 11000000   \n",
       "             War|Drama                        0          Hyena Road                                      0   \n",
       "             War|Adventure|Science Fiction    5          The Hunger Games: Mockingjay - Part 2   160000000   \n",
       "             War|Action                       0          War Pigs                                        0   \n",
       "\n",
       "                                                                                                revenue_adj  \n",
       "release_year genres                           popularity original_title                                      \n",
       "2015         Western|Drama|Adventure|Thriller 9          The Revenant                             532950503  \n",
       "             Western|Drama                    0          Forsaken                                         0  \n",
       "             War|Drama                        0          Hyena Road                                       0  \n",
       "             War|Adventure|Science Fiction    5          The Hunger Games: Mockingjay - Part 2    650523427  \n",
       "             War|Action                       0          War Pigs                                         0  "
      ]
     },
     "execution_count": 12,
     "metadata": {},
     "output_type": "execute_result"
    }
   ],
   "source": [
    "# Index dataframe by popularity, genres and tittle to create a pivot view\n",
    "\n",
    "df = df.sort_values(by=['release_year','genres','popularity','original_title'],ascending=False)\n",
    "\n",
    "idx= ['release_year','genres','popularity','original_title']  # Mutiple indexing\n",
    "\n",
    "df2 = df.set_index(idx)\n",
    "df2.head()"
   ]
  },
  {
   "cell_type": "code",
   "execution_count": null,
   "metadata": {},
   "outputs": [],
   "source": [
    "\n"
   ]
  },
  {
   "cell_type": "code",
   "execution_count": 40,
   "metadata": {},
   "outputs": [
    {
     "ename": "TypeError",
     "evalue": "'generator' object is not subscriptable",
     "output_type": "error",
     "traceback": [
      "\u001b[0;31m---------------------------------------------------------------------------\u001b[0m",
      "\u001b[0;31mTypeError\u001b[0m                                 Traceback (most recent call last)",
      "\u001b[0;32m<ipython-input-40-5edbb0c19a0f>\u001b[0m in \u001b[0;36m<module>\u001b[0;34m()\u001b[0m\n\u001b[1;32m     23\u001b[0m \u001b[0;34m\u001b[0m\u001b[0m\n\u001b[1;32m     24\u001b[0m \u001b[0;34m\u001b[0m\u001b[0m\n\u001b[0;32m---> 25\u001b[0;31m \u001b[0mvar\u001b[0m \u001b[0;34m=\u001b[0m \u001b[0mreformat_movie_list\u001b[0m\u001b[0;34m(\u001b[0m\u001b[0mdf\u001b[0m\u001b[0;34m.\u001b[0m\u001b[0miterrows\u001b[0m\u001b[0;34m(\u001b[0m\u001b[0;34m)\u001b[0m\u001b[0;34m)\u001b[0m\u001b[0;34m\u001b[0m\u001b[0m\n\u001b[0m\u001b[1;32m     26\u001b[0m \u001b[0mprint\u001b[0m\u001b[0;34m(\u001b[0m\u001b[0mvar\u001b[0m\u001b[0;34m.\u001b[0m\u001b[0mhead\u001b[0m\u001b[0;34m(\u001b[0m\u001b[0;34m)\u001b[0m\u001b[0;34m)\u001b[0m\u001b[0;34m\u001b[0m\u001b[0m\n",
      "\u001b[0;32m<ipython-input-40-5edbb0c19a0f>\u001b[0m in \u001b[0;36mreformat_movie_list\u001b[0;34m(movies)\u001b[0m\n\u001b[1;32m     11\u001b[0m \u001b[0;34m\u001b[0m\u001b[0m\n\u001b[1;32m     12\u001b[0m     \u001b[0;32mfor\u001b[0m \u001b[0mi\u001b[0m\u001b[0;34m,\u001b[0m \u001b[0mmovie\u001b[0m \u001b[0;32min\u001b[0m \u001b[0mmovies\u001b[0m\u001b[0;34m:\u001b[0m\u001b[0;34m\u001b[0m\u001b[0m\n\u001b[0;32m---> 13\u001b[0;31m         \u001b[0mmovie_name\u001b[0m \u001b[0;34m=\u001b[0m \u001b[0mmovies\u001b[0m\u001b[0;34m[\u001b[0m\u001b[0;34m\"original_title\"\u001b[0m\u001b[0;34m]\u001b[0m\u001b[0;34m\u001b[0m\u001b[0m\n\u001b[0m\u001b[1;32m     14\u001b[0m         \u001b[0;32mfor\u001b[0m \u001b[0magenre\u001b[0m \u001b[0;32min\u001b[0m \u001b[0mmovie\u001b[0m\u001b[0;34m[\u001b[0m\u001b[0;34m\"genres\"\u001b[0m\u001b[0;34m]\u001b[0m\u001b[0;34m.\u001b[0m\u001b[0msplit\u001b[0m\u001b[0;34m(\u001b[0m\u001b[0;34m\"|\"\u001b[0m\u001b[0;34m)\u001b[0m\u001b[0;34m:\u001b[0m\u001b[0;34m\u001b[0m\u001b[0m\n\u001b[1;32m     15\u001b[0m             \u001b[0mname_list\u001b[0m\u001b[0;34m.\u001b[0m\u001b[0mappend\u001b[0m\u001b[0;34m(\u001b[0m\u001b[0mmovie_name\u001b[0m\u001b[0;34m)\u001b[0m\u001b[0;34m\u001b[0m\u001b[0m\n",
      "\u001b[0;31mTypeError\u001b[0m: 'generator' object is not subscriptable"
     ]
    }
   ],
   "source": [
    "\n",
    "    \n",
    "def reformat_movie_list(movies):\n",
    "    name_list = []\n",
    "    genre_list = []\n",
    "    result = pd.DataFrame()\n",
    "    \n",
    "    for c in movies['genres']:\n",
    "        d[c] += 1\n",
    "    \n",
    "    for i, movie in movies:\n",
    "        movie_name = movies[\"original_title\"]\n",
    "        for agenre in movie[\"genres\"].split(\"|\"):\n",
    " \n",
    "            name_list.append(movie_name)\n",
    "            genre_list.append(agenre)\n",
    "           \n",
    "    result[\"name\"] = name_list\n",
    "    result[\"genre\"] = genre_list\n",
    "    \n",
    "    print(d)\n",
    "    return(result)\n",
    "\n",
    "\n",
    "var = reformat_movie_list(df.iterrows())\n",
    "print(var.head())\n"
   ]
  },
  {
   "cell_type": "code",
   "execution_count": null,
   "metadata": {},
   "outputs": [],
   "source": [
    "vadf.groupby(['genre']).sum()\n",
    "# Load your data and print out a few lines. Perform operations to inspect data\n",
    "#   types and look for instances of missing or possibly errant data.\n"
   ]
  },
  {
   "cell_type": "markdown",
   "metadata": {},
   "source": [
    "> **Tip**: You should _not_ perform too many operations in each cell. Create cells freely to explore your data. One option that you can take with this project is to do a lot of explorations in an initial notebook. These don't have to be organized, but make sure you use enough comments to understand the purpose of each code cell. Then, after you're done with your analysis, create a duplicate notebook where you will trim the excess and organize your steps so that you have a flowing, cohesive report.\n",
    "\n",
    "> **Tip**: Make sure that you keep your reader informed on the steps that you are taking in your investigation. Follow every code cell, or every set of related code cells, with a markdown cell to describe to the reader what was found in the preceding cell(s). Try to make it so that the reader can then understand what they will be seeing in the following cell(s).\n",
    "\n",
    "### Data Cleaning (Replace this with more specific notes!)"
   ]
  },
  {
   "cell_type": "code",
   "execution_count": null,
   "metadata": {
    "scrolled": true
   },
   "outputs": [],
   "source": [
    "# After discussing the structure of the data and any problems that need to be\n",
    "#   cleaned, perform those cleaning steps in the second part of this section.\n"
   ]
  },
  {
   "cell_type": "markdown",
   "metadata": {},
   "source": [
    "<a id='eda'></a>\n",
    "## Exploratory Data Analysis\n",
    "\n",
    "> **Tip**: Now that you've trimmed and cleaned your data, you're ready to move on to exploration. Compute statistics and create visualizations with the goal of addressing the research questions that you posed in the Introduction section. It is recommended that you be systematic with your approach. Look at one variable at a time, and then follow it up by looking at relationships between variables.\n",
    "\n",
    "### Research Question 1 (Replace this header name!)"
   ]
  },
  {
   "cell_type": "code",
   "execution_count": null,
   "metadata": {
    "scrolled": true
   },
   "outputs": [],
   "source": [
    "# Use this, and more code cells, to explore your data. Don't forget to add\n",
    "#   Markdown cells to document your observations and findings.\n"
   ]
  },
  {
   "cell_type": "markdown",
   "metadata": {},
   "source": [
    "### Research Question 2  (Replace this header name!)"
   ]
  },
  {
   "cell_type": "code",
   "execution_count": null,
   "metadata": {
    "scrolled": true
   },
   "outputs": [],
   "source": [
    "# Continue to explore the data to address your additional research\n",
    "#   questions. Add more headers as needed if you have more questions to\n",
    "#   investigate.\n"
   ]
  },
  {
   "cell_type": "markdown",
   "metadata": {},
   "source": [
    "<a id='conclusions'></a>\n",
    "## Conclusions\n",
    "\n",
    "> **Tip**: Finally, summarize your findings and the results that have been performed. Make sure that you are clear with regards to the limitations of your exploration. If you haven't done any statistical tests, do not imply any statistical conclusions. And make sure you avoid implying causation from correlation!\n",
    "\n",
    "> **Tip**: Once you are satisfied with your work, you should save a copy of the report in HTML or PDF form via the **File** > **Download as** submenu. Before exporting your report, check over it to make sure that the flow of the report is complete. You should probably remove all of the \"Tip\" quotes like this one so that the presentation is as tidy as possible. Congratulations!"
   ]
  },
  {
   "cell_type": "code",
   "execution_count": null,
   "metadata": {
    "scrolled": true
   },
   "outputs": [],
   "source": []
  }
 ],
 "metadata": {
  "celltoolbar": "Raw Cell Format",
  "kernelspec": {
   "display_name": "Python 3",
   "language": "python",
   "name": "python3"
  },
  "language_info": {
   "codemirror_mode": {
    "name": "ipython",
    "version": 3
   },
   "file_extension": ".py",
   "mimetype": "text/x-python",
   "name": "python",
   "nbconvert_exporter": "python",
   "pygments_lexer": "ipython3",
   "version": "3.6.6"
  }
 },
 "nbformat": 4,
 "nbformat_minor": 2
}
